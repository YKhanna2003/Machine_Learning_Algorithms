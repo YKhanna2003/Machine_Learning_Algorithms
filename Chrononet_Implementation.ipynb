{
  "cells": [
    {
      "cell_type": "code",
      "execution_count": null,
      "metadata": {
        "id": "TJvtghAiSX6A"
      },
      "outputs": [],
      "source": [
        "%%capture\n",
        "!pip install mne\n",
        "!pip install pytorch-lightning"
      ]
    },
    {
      "cell_type": "code",
      "execution_count": null,
      "metadata": {
        "colab": {
          "base_uri": "https://localhost:8080/"
        },
        "id": "LzFg29vfSewH",
        "outputId": "5a01020e-32d0-4186-e41c-9290df2e7c2d"
      },
      "outputs": [
        {
          "output_type": "stream",
          "name": "stdout",
          "text": [
            "--2023-10-05 14:21:24--  https://prod-dcd-datasets-cache-zipfiles.s3.eu-west-1.amazonaws.com/fshy54ypyh-2.zip\n",
            "Resolving prod-dcd-datasets-cache-zipfiles.s3.eu-west-1.amazonaws.com (prod-dcd-datasets-cache-zipfiles.s3.eu-west-1.amazonaws.com)... 52.218.112.128, 52.218.85.32, 3.5.69.128, ...\n",
            "Connecting to prod-dcd-datasets-cache-zipfiles.s3.eu-west-1.amazonaws.com (prod-dcd-datasets-cache-zipfiles.s3.eu-west-1.amazonaws.com)|52.218.112.128|:443... connected.\n",
            "HTTP request sent, awaiting response... 200 OK\n",
            "Length: 34637694 (33M) [application/zip]\n",
            "Saving to: ‘data.zip’\n",
            "\n",
            "data.zip            100%[===================>]  33.03M  20.7MB/s    in 1.6s    \n",
            "\n",
            "2023-10-05 14:21:27 (20.7 MB/s) - ‘data.zip’ saved [34637694/34637694]\n",
            "\n",
            "Archive:  data.zip\n",
            "  inflating: EEG dataset of individuals with intellectual and developmental disorder and healthy controls while observing rest and music stimuli/Data/_DS_Store  \n",
            "  inflating: EEG dataset of individuals with intellectual and developmental disorder and healthy controls while observing rest and music stimuli/Data/QualitativeData.xlsx  \n",
            "  inflating: EEG dataset of individuals with intellectual and developmental disorder and healthy controls while observing rest and music stimuli/Pipeline/eegppf.m  \n",
            "  inflating: EEG dataset of individuals with intellectual and developmental disorder and healthy controls while observing rest and music stimuli/Pipeline/Helper_func/computeSED_NOnorm.m  \n",
            "  inflating: EEG dataset of individuals with intellectual and developmental disorder and healthy controls while observing rest and music stimuli/Pipeline/Helper_func/compute_GD_feat.m  \n",
            "  inflating: EEG dataset of individuals with intellectual and developmental disorder and healthy controls while observing rest and music stimuli/Pipeline/Helper_func/Artifact_removal.m  \n",
            "  inflating: EEG dataset of individuals with intellectual and developmental disorder and healthy controls while observing rest and music stimuli/Pipeline/Helper_func/computeSAD.m  \n",
            "  inflating: EEG dataset of individuals with intellectual and developmental disorder and healthy controls while observing rest and music stimuli/Pipeline/Helper_func/EM.m  \n",
            "  inflating: EEG dataset of individuals with intellectual and developmental disorder and healthy controls while observing rest and music stimuli/Pipeline/Helper_func/emotiv_electrode.ced  \n",
            "  inflating: EEG dataset of individuals with intellectual and developmental disorder and healthy controls while observing rest and music stimuli/Data/CleanData/CleanData_TDC/_DS_Store  \n",
            "  inflating: EEG dataset of individuals with intellectual and developmental disorder and healthy controls while observing rest and music stimuli/Data/CleanData/CleanData_IDD/_DS_Store  \n",
            "  inflating: EEG dataset of individuals with intellectual and developmental disorder and healthy controls while observing rest and music stimuli/Data/RawData/RawData_TDC/_DS_Store  \n",
            "  inflating: EEG dataset of individuals with intellectual and developmental disorder and healthy controls while observing rest and music stimuli/Data/RawData/RawData_IDD/_DS_Store  \n",
            "  inflating: EEG dataset of individuals with intellectual and developmental disorder and healthy controls while observing rest and music stimuli/Pipeline/Helper_func/sample_data/sample_dataset.set  \n",
            "  inflating: EEG dataset of individuals with intellectual and developmental disorder and healthy controls while observing rest and music stimuli/Pipeline/Helper_func/sample_data/sample_dataset.fdt  \n",
            "  inflating: EEG dataset of individuals with intellectual and developmental disorder and healthy controls while observing rest and music stimuli/Data/CleanData/CleanData_TDC/Music/CGS06_Music_CD.mat  \n",
            "  inflating: EEG dataset of individuals with intellectual and developmental disorder and healthy controls while observing rest and music stimuli/Data/CleanData/CleanData_TDC/Music/CGS01_Music_CD.mat  \n",
            "  inflating: EEG dataset of individuals with intellectual and developmental disorder and healthy controls while observing rest and music stimuli/Data/CleanData/CleanData_TDC/Music/CGS03_Music_CD.mat  \n",
            "  inflating: EEG dataset of individuals with intellectual and developmental disorder and healthy controls while observing rest and music stimuli/Data/CleanData/CleanData_TDC/Music/CGS07_Music_CD.mat  \n",
            "  inflating: EEG dataset of individuals with intellectual and developmental disorder and healthy controls while observing rest and music stimuli/Data/CleanData/CleanData_TDC/Music/CGS02_Music_CD.mat  \n",
            "  inflating: EEG dataset of individuals with intellectual and developmental disorder and healthy controls while observing rest and music stimuli/Data/CleanData/CleanData_TDC/Music/CGS05_Music_CD.mat  \n",
            "  inflating: EEG dataset of individuals with intellectual and developmental disorder and healthy controls while observing rest and music stimuli/Data/CleanData/CleanData_TDC/Music/CGS04_Music_CD.mat  \n",
            "  inflating: EEG dataset of individuals with intellectual and developmental disorder and healthy controls while observing rest and music stimuli/Data/CleanData/CleanData_TDC/Rest/CGS06_Rest_CD.mat  \n",
            "  inflating: EEG dataset of individuals with intellectual and developmental disorder and healthy controls while observing rest and music stimuli/Data/CleanData/CleanData_TDC/Rest/CGS05_Rest_CD.mat  \n",
            "  inflating: EEG dataset of individuals with intellectual and developmental disorder and healthy controls while observing rest and music stimuli/Data/CleanData/CleanData_TDC/Rest/CGS03_Rest_CD.mat  \n",
            "  inflating: EEG dataset of individuals with intellectual and developmental disorder and healthy controls while observing rest and music stimuli/Data/CleanData/CleanData_TDC/Rest/CGS04_Rest_CD.mat  \n",
            "  inflating: EEG dataset of individuals with intellectual and developmental disorder and healthy controls while observing rest and music stimuli/Data/CleanData/CleanData_TDC/Rest/CGS01_Rest_CD.mat  \n",
            "  inflating: EEG dataset of individuals with intellectual and developmental disorder and healthy controls while observing rest and music stimuli/Data/CleanData/CleanData_TDC/Rest/CGS02_Rest_CD.mat  \n",
            "  inflating: EEG dataset of individuals with intellectual and developmental disorder and healthy controls while observing rest and music stimuli/Data/CleanData/CleanData_TDC/Rest/CGS07_Rest_CD.mat  \n",
            "  inflating: EEG dataset of individuals with intellectual and developmental disorder and healthy controls while observing rest and music stimuli/Data/CleanData/CleanData_IDD/Rest/NDS003_Rest_CD.mat  \n",
            "  inflating: EEG dataset of individuals with intellectual and developmental disorder and healthy controls while observing rest and music stimuli/Data/CleanData/CleanData_IDD/Rest/NDS004_Rest_CD.mat  \n",
            "  inflating: EEG dataset of individuals with intellectual and developmental disorder and healthy controls while observing rest and music stimuli/Data/CleanData/CleanData_IDD/Rest/NDS007_Rest_CD.mat  \n",
            "  inflating: EEG dataset of individuals with intellectual and developmental disorder and healthy controls while observing rest and music stimuli/Data/CleanData/CleanData_IDD/Rest/NDS001_Rest_CD.mat  \n",
            "  inflating: EEG dataset of individuals with intellectual and developmental disorder and healthy controls while observing rest and music stimuli/Data/CleanData/CleanData_IDD/Rest/NDS005_Rest_CD.mat  \n",
            "  inflating: EEG dataset of individuals with intellectual and developmental disorder and healthy controls while observing rest and music stimuli/Data/CleanData/CleanData_IDD/Rest/NDS001_Rest_CD(1).mat  \n",
            "  inflating: EEG dataset of individuals with intellectual and developmental disorder and healthy controls while observing rest and music stimuli/Data/CleanData/CleanData_IDD/Rest/NDS002_Rest_CD.mat  \n",
            "  inflating: EEG dataset of individuals with intellectual and developmental disorder and healthy controls while observing rest and music stimuli/Data/CleanData/CleanData_IDD/Rest/NDS006_Rest_CD.mat  \n",
            "  inflating: EEG dataset of individuals with intellectual and developmental disorder and healthy controls while observing rest and music stimuli/Data/CleanData/CleanData_IDD/Music/NDS001_Music_CD.mat  \n",
            "  inflating: EEG dataset of individuals with intellectual and developmental disorder and healthy controls while observing rest and music stimuli/Data/CleanData/CleanData_IDD/Music/NDS002_Music_CD.mat  \n",
            "  inflating: EEG dataset of individuals with intellectual and developmental disorder and healthy controls while observing rest and music stimuli/Data/CleanData/CleanData_IDD/Music/NDS005_Music_CD.mat  \n",
            "  inflating: EEG dataset of individuals with intellectual and developmental disorder and healthy controls while observing rest and music stimuli/Data/CleanData/CleanData_IDD/Music/NDS003_Music_CD.mat  \n",
            "  inflating: EEG dataset of individuals with intellectual and developmental disorder and healthy controls while observing rest and music stimuli/Data/CleanData/CleanData_IDD/Music/NDS006_Music_CD.mat  \n",
            "  inflating: EEG dataset of individuals with intellectual and developmental disorder and healthy controls while observing rest and music stimuli/Data/CleanData/CleanData_IDD/Music/NDS007_Music_CD.mat  \n",
            "  inflating: EEG dataset of individuals with intellectual and developmental disorder and healthy controls while observing rest and music stimuli/Data/CleanData/CleanData_IDD/Music/NDS004_Music_CD.mat  \n",
            "  inflating: EEG dataset of individuals with intellectual and developmental disorder and healthy controls while observing rest and music stimuli/Data/RawData/RawData_TDC/Music/CGS07_Music.set  \n",
            "  inflating: EEG dataset of individuals with intellectual and developmental disorder and healthy controls while observing rest and music stimuli/Data/RawData/RawData_TDC/Music/CGS02_Music.set  \n",
            "  inflating: EEG dataset of individuals with intellectual and developmental disorder and healthy controls while observing rest and music stimuli/Data/RawData/RawData_TDC/Music/CGS05_Music.set  \n",
            "  inflating: EEG dataset of individuals with intellectual and developmental disorder and healthy controls while observing rest and music stimuli/Data/RawData/RawData_TDC/Music/CGS04_Music.set  \n",
            "  inflating: EEG dataset of individuals with intellectual and developmental disorder and healthy controls while observing rest and music stimuli/Data/RawData/RawData_TDC/Music/CGS03_Music.set  \n",
            "  inflating: EEG dataset of individuals with intellectual and developmental disorder and healthy controls while observing rest and music stimuli/Data/RawData/RawData_TDC/Music/CGS06_Music.set  \n",
            "  inflating: EEG dataset of individuals with intellectual and developmental disorder and healthy controls while observing rest and music stimuli/Data/RawData/RawData_TDC/Music/CGS03_Music.fdt  \n",
            "  inflating: EEG dataset of individuals with intellectual and developmental disorder and healthy controls while observing rest and music stimuli/Data/RawData/RawData_TDC/Music/CGS06_Music.fdt  \n",
            "  inflating: EEG dataset of individuals with intellectual and developmental disorder and healthy controls while observing rest and music stimuli/Data/RawData/RawData_TDC/Music/CGS04_Music.fdt  \n",
            "  inflating: EEG dataset of individuals with intellectual and developmental disorder and healthy controls while observing rest and music stimuli/Data/RawData/RawData_TDC/Music/CGS01_Music.set  \n",
            "  inflating: EEG dataset of individuals with intellectual and developmental disorder and healthy controls while observing rest and music stimuli/Data/RawData/RawData_TDC/Music/CGS05_Music.fdt  \n",
            "  inflating: EEG dataset of individuals with intellectual and developmental disorder and healthy controls while observing rest and music stimuli/Data/RawData/RawData_TDC/Music/CGS02_Music.fdt  \n",
            "  inflating: EEG dataset of individuals with intellectual and developmental disorder and healthy controls while observing rest and music stimuli/Data/RawData/RawData_TDC/Music/CGS07_Music.fdt  \n",
            "  inflating: EEG dataset of individuals with intellectual and developmental disorder and healthy controls while observing rest and music stimuli/Data/RawData/RawData_TDC/Music/CGS01_Music.fdt  \n",
            "  inflating: EEG dataset of individuals with intellectual and developmental disorder and healthy controls while observing rest and music stimuli/Data/RawData/RawData_TDC/Rest/CGS07_Rest.set  \n",
            "  inflating: EEG dataset of individuals with intellectual and developmental disorder and healthy controls while observing rest and music stimuli/Data/RawData/RawData_TDC/Rest/CGS04_Rest.set  \n",
            "  inflating: EEG dataset of individuals with intellectual and developmental disorder and healthy controls while observing rest and music stimuli/Data/RawData/RawData_TDC/Rest/CGS02_Rest.set  \n",
            "  inflating: EEG dataset of individuals with intellectual and developmental disorder and healthy controls while observing rest and music stimuli/Data/RawData/RawData_TDC/Rest/CGS05_Rest.set  \n",
            "  inflating: EEG dataset of individuals with intellectual and developmental disorder and healthy controls while observing rest and music stimuli/Data/RawData/RawData_TDC/Rest/CGS03_Rest.set  \n",
            "  inflating: EEG dataset of individuals with intellectual and developmental disorder and healthy controls while observing rest and music stimuli/Data/RawData/RawData_TDC/Rest/CGS06_Rest.set  \n",
            "  inflating: EEG dataset of individuals with intellectual and developmental disorder and healthy controls while observing rest and music stimuli/Data/RawData/RawData_TDC/Rest/CGS02_Rest.fdt  \n",
            "  inflating: EEG dataset of individuals with intellectual and developmental disorder and healthy controls while observing rest and music stimuli/Data/RawData/RawData_TDC/Rest/CGS05_Rest.fdt  \n",
            "  inflating: EEG dataset of individuals with intellectual and developmental disorder and healthy controls while observing rest and music stimuli/Data/RawData/RawData_TDC/Rest/CGS07_Rest.fdt  \n",
            "  inflating: EEG dataset of individuals with intellectual and developmental disorder and healthy controls while observing rest and music stimuli/Data/RawData/RawData_TDC/Rest/CGS01_Rest.set  \n",
            "  inflating: EEG dataset of individuals with intellectual and developmental disorder and healthy controls while observing rest and music stimuli/Data/RawData/RawData_TDC/Rest/CGS04_Rest.fdt  \n",
            "  inflating: EEG dataset of individuals with intellectual and developmental disorder and healthy controls while observing rest and music stimuli/Data/RawData/RawData_TDC/Rest/CGS01_Rest.fdt  \n",
            "  inflating: EEG dataset of individuals with intellectual and developmental disorder and healthy controls while observing rest and music stimuli/Data/RawData/RawData_TDC/Rest/CGS06_Rest.fdt  \n",
            "  inflating: EEG dataset of individuals with intellectual and developmental disorder and healthy controls while observing rest and music stimuli/Data/RawData/RawData_TDC/Rest/CGS03_Rest.fdt  \n",
            "  inflating: EEG dataset of individuals with intellectual and developmental disorder and healthy controls while observing rest and music stimuli/Data/RawData/RawData_IDD/Music/NDS001_Music.set  \n",
            "  inflating: EEG dataset of individuals with intellectual and developmental disorder and healthy controls while observing rest and music stimuli/Data/RawData/RawData_IDD/Music/NDS005_Music.set  \n",
            "  inflating: EEG dataset of individuals with intellectual and developmental disorder and healthy controls while observing rest and music stimuli/Data/RawData/RawData_IDD/Music/NDS006_Music.set  \n",
            "  inflating: EEG dataset of individuals with intellectual and developmental disorder and healthy controls while observing rest and music stimuli/Data/RawData/RawData_IDD/Music/NDS007_Music.set  \n",
            "  inflating: EEG dataset of individuals with intellectual and developmental disorder and healthy controls while observing rest and music stimuli/Data/RawData/RawData_IDD/Music/NDS002_Music.set  \n",
            "  inflating: EEG dataset of individuals with intellectual and developmental disorder and healthy controls while observing rest and music stimuli/Data/RawData/RawData_IDD/Music/NDS004_Music.set  \n",
            "  inflating: EEG dataset of individuals with intellectual and developmental disorder and healthy controls while observing rest and music stimuli/Data/RawData/RawData_IDD/Music/NDS007_Music.fdt  \n",
            "  inflating: EEG dataset of individuals with intellectual and developmental disorder and healthy controls while observing rest and music stimuli/Data/RawData/RawData_IDD/Music/NDS003_Music.set  \n",
            "  inflating: EEG dataset of individuals with intellectual and developmental disorder and healthy controls while observing rest and music stimuli/Data/RawData/RawData_IDD/Music/NDS004_Music.fdt  \n",
            "  inflating: EEG dataset of individuals with intellectual and developmental disorder and healthy controls while observing rest and music stimuli/Data/RawData/RawData_IDD/Music/NDS001_Music.fdt  \n",
            "  inflating: EEG dataset of individuals with intellectual and developmental disorder and healthy controls while observing rest and music stimuli/Data/RawData/RawData_IDD/Music/NDS003_Music.fdt  \n",
            "  inflating: EEG dataset of individuals with intellectual and developmental disorder and healthy controls while observing rest and music stimuli/Data/RawData/RawData_IDD/Music/NDS002_Music.fdt  \n",
            "  inflating: EEG dataset of individuals with intellectual and developmental disorder and healthy controls while observing rest and music stimuli/Data/RawData/RawData_IDD/Music/NDS005_Music.fdt  \n",
            "  inflating: EEG dataset of individuals with intellectual and developmental disorder and healthy controls while observing rest and music stimuli/Data/RawData/RawData_IDD/Music/NDS006_Music.fdt  \n",
            "  inflating: EEG dataset of individuals with intellectual and developmental disorder and healthy controls while observing rest and music stimuli/Data/RawData/RawData_IDD/Rest/NDS007_Rest.set  \n",
            "  inflating: EEG dataset of individuals with intellectual and developmental disorder and healthy controls while observing rest and music stimuli/Data/RawData/RawData_IDD/Rest/NDS006_Rest.set  \n",
            "  inflating: EEG dataset of individuals with intellectual and developmental disorder and healthy controls while observing rest and music stimuli/Data/RawData/RawData_IDD/Rest/NDS003_Rest.set  \n",
            "  inflating: EEG dataset of individuals with intellectual and developmental disorder and healthy controls while observing rest and music stimuli/Data/RawData/RawData_IDD/Rest/NDS004_Rest.set  \n",
            "  inflating: EEG dataset of individuals with intellectual and developmental disorder and healthy controls while observing rest and music stimuli/Data/RawData/RawData_IDD/Rest/NDS002_Rest.set  \n",
            "  inflating: EEG dataset of individuals with intellectual and developmental disorder and healthy controls while observing rest and music stimuli/Data/RawData/RawData_IDD/Rest/NDS001_Rest.fdt  \n",
            "  inflating: EEG dataset of individuals with intellectual and developmental disorder and healthy controls while observing rest and music stimuli/Data/RawData/RawData_IDD/Rest/NDS003_Rest.fdt  \n",
            "  inflating: EEG dataset of individuals with intellectual and developmental disorder and healthy controls while observing rest and music stimuli/Data/RawData/RawData_IDD/Rest/NDS001_Rest.set  \n",
            "  inflating: EEG dataset of individuals with intellectual and developmental disorder and healthy controls while observing rest and music stimuli/Data/RawData/RawData_IDD/Rest/NDS005_Rest.set  \n",
            "  inflating: EEG dataset of individuals with intellectual and developmental disorder and healthy controls while observing rest and music stimuli/Data/RawData/RawData_IDD/Rest/NDS005_Rest.fdt  \n",
            "  inflating: EEG dataset of individuals with intellectual and developmental disorder and healthy controls while observing rest and music stimuli/Data/RawData/RawData_IDD/Rest/NDS007_Rest.fdt  \n",
            "  inflating: EEG dataset of individuals with intellectual and developmental disorder and healthy controls while observing rest and music stimuli/Data/RawData/RawData_IDD/Rest/NDS002_Rest.fdt  \n",
            "  inflating: EEG dataset of individuals with intellectual and developmental disorder and healthy controls while observing rest and music stimuli/Data/RawData/RawData_IDD/Rest/NDS006_Rest.fdt  \n",
            "  inflating: EEG dataset of individuals with intellectual and developmental disorder and healthy controls while observing rest and music stimuli/Data/RawData/RawData_IDD/Rest/NDS004_Rest.fdt  \n"
          ]
        }
      ],
      "source": [
        "!wget https://prod-dcd-datasets-cache-zipfiles.s3.eu-west-1.amazonaws.com/fshy54ypyh-2.zip -O data.zip\n",
        "!unzip data.zip\n"
      ]
    },
    {
      "cell_type": "code",
      "execution_count": null,
      "metadata": {
        "id": "epkRi81yS_y3"
      },
      "outputs": [],
      "source": [
        "from glob import glob\n",
        "import scipy.io\n",
        "import torch.nn as nn\n",
        "import torch\n",
        "import numpy as np\n",
        "import mne"
      ]
    },
    {
      "cell_type": "code",
      "execution_count": null,
      "metadata": {
        "id": "RtVMJnue8r4A",
        "colab": {
          "base_uri": "https://localhost:8080/"
        },
        "outputId": "065e9923-64ab-4016-934e-111bacf4d8eb"
      },
      "outputs": [
        {
          "output_type": "execute_result",
          "data": {
            "text/plain": [
              "torch.Size([3, 22, 15000])"
            ]
          },
          "metadata": {},
          "execution_count": 33
        }
      ],
      "source": [
        "input=torch.randn(3,22,15000)\n",
        "input.shape"
      ]
    },
    {
      "cell_type": "code",
      "execution_count": null,
      "metadata": {
        "id": "wtzMgY-M_FZL"
      },
      "outputs": [],
      "source": [
        "class Block(nn.Module):\n",
        "  def __init__(self,inplace):\n",
        "    super().__init__()\n",
        "    self.conv1=nn.Conv1d(in_channels=inplace,out_channels=32,kernel_size=2,stride=2,padding=0)\n",
        "    self.conv2=nn.Conv1d(in_channels=inplace,out_channels=32,kernel_size=4,stride=2,padding=1)\n",
        "    self.conv3=nn.Conv1d(in_channels=inplace,out_channels=32,kernel_size=8,stride=2,padding=3)\n",
        "    self.relu=nn.ReLU()\n",
        "\n",
        "  def forward(self,x):\n",
        "    x1=self.relu(self.conv1(x))\n",
        "    x2=self.relu(self.conv2(x))\n",
        "    x3=self.relu(self.conv3(x))\n",
        "    x=torch.cat([x1,x3,x3],dim=1)\n",
        "    return x"
      ]
    },
    {
      "cell_type": "code",
      "execution_count": null,
      "metadata": {
        "id": "yhLl-gVt4gtv"
      },
      "outputs": [],
      "source": [
        "class ChronoNet(nn.Module):\n",
        "  def __init__(self,channel):\n",
        "    super().__init__()\n",
        "    self.block1=Block(channel)\n",
        "    self.block2=Block(96)\n",
        "    self.block3=Block(96)\n",
        "    self.gru1=nn.GRU(input_size=96,hidden_size=32,batch_first=True)\n",
        "    self.gru2=nn.GRU(input_size=32,hidden_size=32,batch_first=True)\n",
        "    self.gru3=nn.GRU(input_size=64,hidden_size=32,batch_first=True)\n",
        "    self.gru4=nn.GRU(input_size=96,hidden_size=32,batch_first=True)\n",
        "    self.gru_linear=nn.Linear(64,1)\n",
        "    self.flatten=nn.Flatten()\n",
        "    self.fc1=nn.Linear(32,1)\n",
        "    self.relu=nn.ReLU()\n",
        "  def forward(self,x):\n",
        "    x=self.block1(x)\n",
        "    x=self.block2(x)\n",
        "    x=self.block3(x)\n",
        "    x=x.permute(0,2,1)\n",
        "    gru_out1,_=self.gru1(x)\n",
        "    gru_out2,_=self.gru2(gru_out1)\n",
        "    gru_out=torch.cat([gru_out1,gru_out2],dim=2)\n",
        "    gru_out3,_=self.gru3(gru_out)\n",
        "    gru_out=torch.cat([gru_out1,gru_out2,gru_out3],dim=2)\n",
        "    #print('gru_out',gru_out.shape)\n",
        "    linear_out=self.relu(self.gru_linear(gru_out.permute(0,2,1)))\n",
        "    gru_out4,_=self.gru4(linear_out.permute(0,2,1))\n",
        "    x=self.flatten(gru_out4)\n",
        "    x=self.fc1(x)\n",
        "    return x"
      ]
    },
    {
      "cell_type": "code",
      "execution_count": null,
      "metadata": {
        "colab": {
          "base_uri": "https://localhost:8080/"
        },
        "id": "0KLyQbZh4gwp",
        "outputId": "dd4f4cce-f98f-499b-dcf1-c88b8621c448"
      },
      "outputs": [
        {
          "output_type": "execute_result",
          "data": {
            "text/plain": [
              "torch.Size([3, 1])"
            ]
          },
          "metadata": {},
          "execution_count": 36
        }
      ],
      "source": [
        "input=torch.randn(3,14,512)\n",
        "input.shape\n",
        "model=ChronoNet(14)\n",
        "out=model(input)\n",
        "out.shape"
      ]
    },
    {
      "cell_type": "code",
      "execution_count": null,
      "metadata": {
        "id": "Z4cFUiGnBxB7"
      },
      "outputs": [],
      "source": [
        "TDC_data_path='/content/Data/Data/CleanData/CleanData_TDC/Rest'\n",
        "IDD_data_path='/content/Data/Data/CleanData/CleanData_IDD/Rest'\n",
        "!rm '/content/Data/Data/CleanData/CleanData_IDD/Rest/NDS001_Rest_CD(1).mat'"
      ]
    },
    {
      "cell_type": "code",
      "execution_count": null,
      "metadata": {
        "id": "FTESfB9jEylt"
      },
      "outputs": [],
      "source": [
        "def convertmat2mne(data):\n",
        "  ch_names = ['AF3', 'F7', 'F3', 'FC5', 'T7', 'P7', 'O1', 'O2', 'P8', 'T8', 'FC6', 'F4', 'F8', 'AF4']\n",
        "  ch_types = ['eeg'] * 14\n",
        "  sampling_freq=128\n",
        "  info = mne.create_info(ch_names, ch_types=ch_types, sfreq=sampling_freq)\n",
        "  info.set_montage('standard_1020')\n",
        "  data=mne.io.RawArray(data, info)\n",
        "  data.set_eeg_reference()\n",
        "  data.filter(l_freq=1,h_freq=30)\n",
        "  epochs=mne.make_fixed_length_epochs(data,duration=4,overlap=0)\n",
        "  return epochs.get_data()"
      ]
    },
    {
      "cell_type": "code",
      "execution_count": null,
      "metadata": {
        "id": "9hbUxNpSS9U8"
      },
      "outputs": [],
      "source": [
        "%%capture\n",
        "idd_subject=[]\n",
        "for idd in glob(IDD_data_path+'/*.mat'):\n",
        "  data=scipy.io.loadmat(idd)['clean_data']\n",
        "  data=convertmat2mne(data)\n",
        "  idd_subject.append(data)"
      ]
    },
    {
      "cell_type": "code",
      "execution_count": null,
      "metadata": {
        "id": "9U1fOB2QF2U3"
      },
      "outputs": [],
      "source": [
        "%%capture\n",
        "tdc_subject=[]\n",
        "for tdc in glob(TDC_data_path+'/*.mat'):\n",
        "  data=scipy.io.loadmat(tdc)['clean_data']\n",
        "  data=convertmat2mne(data)\n",
        "  tdc_subject.append(data)\n"
      ]
    },
    {
      "cell_type": "code",
      "execution_count": null,
      "metadata": {
        "colab": {
          "base_uri": "https://localhost:8080/"
        },
        "id": "IRVuAHySGnJT",
        "outputId": "fb15c307-f6a0-4f31-840e-ca38ad2f6b39"
      },
      "outputs": [
        {
          "output_type": "execute_result",
          "data": {
            "text/plain": [
              "(7, 7)"
            ]
          },
          "metadata": {},
          "execution_count": 41
        }
      ],
      "source": [
        "len(idd_subject),len(tdc_subject)"
      ]
    },
    {
      "cell_type": "code",
      "execution_count": null,
      "metadata": {
        "colab": {
          "base_uri": "https://localhost:8080/"
        },
        "id": "lc5-ca_RGus7",
        "outputId": "d30f7350-7d20-4c3e-edf1-bcbea88579ea"
      },
      "outputs": [
        {
          "output_type": "stream",
          "name": "stdout",
          "text": [
            "7 7\n"
          ]
        }
      ],
      "source": [
        "control_epochs_labels=[len(i)*[0] for i in tdc_subject]\n",
        "patients_epochs_labels=[len(i)*[1] for i in idd_subject]\n",
        "print(len(control_epochs_labels),len(patients_epochs_labels))"
      ]
    },
    {
      "cell_type": "code",
      "execution_count": null,
      "metadata": {
        "colab": {
          "base_uri": "https://localhost:8080/"
        },
        "id": "gIz9MHzAG-HC",
        "outputId": "c80ff818-5bd0-4f82-cfc8-fdcb38aefffd"
      },
      "outputs": [
        {
          "output_type": "stream",
          "name": "stdout",
          "text": [
            "14 14 14\n"
          ]
        }
      ],
      "source": [
        "data_list=tdc_subject+idd_subject\n",
        "label_list=control_epochs_labels+patients_epochs_labels\n",
        "groups_list=[[i]*len(j) for i, j in enumerate(data_list)]\n",
        "print(len(data_list),len(label_list),len(groups_list))\n"
      ]
    },
    {
      "cell_type": "code",
      "execution_count": null,
      "metadata": {
        "id": "rodPubFyMbwH"
      },
      "outputs": [],
      "source": [
        "from sklearn.model_selection import GroupKFold,LeaveOneGroupOut\n",
        "from sklearn.preprocessing import StandardScaler\n",
        "gkf=GroupKFold()\n",
        "from sklearn.base import TransformerMixin,BaseEstimator\n",
        "from sklearn.preprocessing import StandardScaler\n",
        "#https://stackoverflow.com/questions/50125844/how-to-standard-scale-a-3d-matrix\n",
        "class StandardScaler3D(BaseEstimator,TransformerMixin):\n",
        "    #batch, sequence, channels\n",
        "    def __init__(self):\n",
        "        self.scaler = StandardScaler()\n",
        "\n",
        "    def fit(self,X,y=None):\n",
        "        self.scaler.fit(X.reshape(-1, X.shape[2]))\n",
        "        return self\n",
        "\n",
        "    def transform(self,X):\n",
        "        return self.scaler.transform(X.reshape( -1,X.shape[2])).reshape(X.shape)"
      ]
    },
    {
      "cell_type": "code",
      "execution_count": null,
      "metadata": {
        "colab": {
          "base_uri": "https://localhost:8080/"
        },
        "id": "k_9aWxq9MlFg",
        "outputId": "6d1bd543-e9a1-4790-bc07-4dc76f49143c"
      },
      "outputs": [
        {
          "output_type": "stream",
          "name": "stdout",
          "text": [
            "(420, 512, 14) (420,) (420,)\n"
          ]
        }
      ],
      "source": [
        "import numpy as np\n",
        "data_array=np.concatenate(data_list)\n",
        "label_array=np.concatenate(label_list)\n",
        "group_array=np.concatenate(groups_list)\n",
        "data_array=np.moveaxis(data_array,1,2)\n",
        "\n",
        "print(data_array.shape,label_array.shape,group_array.shape)"
      ]
    },
    {
      "cell_type": "code",
      "execution_count": null,
      "metadata": {
        "id": "qOq1dRqOMcFd"
      },
      "outputs": [],
      "source": [
        "accuracy=[]\n",
        "for train_index, val_index in gkf.split(data_array, label_array, groups=group_array):\n",
        "    train_features,train_labels=data_array[train_index],label_array[train_index]\n",
        "    val_features,val_labels=data_array[val_index],label_array[val_index]\n",
        "    scaler=StandardScaler3D()\n",
        "    train_features=scaler.fit_transform(train_features)\n",
        "    val_features=scaler.transform(val_features)\n",
        "    train_features=np.moveaxis(train_features,1,2)\n",
        "    val_features=np.moveaxis(val_features,1,2)\n",
        "\n",
        "    break"
      ]
    },
    {
      "cell_type": "code",
      "execution_count": null,
      "metadata": {
        "id": "HDyijz8nbaK2"
      },
      "outputs": [],
      "source": [
        "train_features = torch.Tensor(train_features)\n",
        "val_features = torch.Tensor(val_features)\n",
        "train_labels = torch.Tensor(train_labels)\n",
        "val_labels = torch.Tensor(val_labels)"
      ]
    },
    {
      "cell_type": "code",
      "execution_count": null,
      "metadata": {
        "id": "adRqbzk5bF_X",
        "colab": {
          "base_uri": "https://localhost:8080/"
        },
        "outputId": "5584c9c0-4302-4b50-dfff-c449ff1f14da"
      },
      "outputs": [
        {
          "output_type": "execute_result",
          "data": {
            "text/plain": [
              "(90, 90)"
            ]
          },
          "metadata": {},
          "execution_count": 48
        }
      ],
      "source": [
        "len(val_features),len(val_labels)"
      ]
    },
    {
      "cell_type": "code",
      "execution_count": null,
      "metadata": {
        "id": "qMsWqCDAMhGJ",
        "colab": {
          "base_uri": "https://localhost:8080/"
        },
        "outputId": "ee94f400-07ae-40e5-de0a-916bc51dea4b"
      },
      "outputs": [
        {
          "output_type": "execute_result",
          "data": {
            "text/plain": [
              "torch.Size([330, 14, 512])"
            ]
          },
          "metadata": {},
          "execution_count": 49
        }
      ],
      "source": [
        "train_features.shape"
      ]
    },
    {
      "cell_type": "code",
      "execution_count": null,
      "metadata": {
        "id": "xNpn_33LMvvT"
      },
      "outputs": [],
      "source": [
        "from pytorch_lightning import LightningModule,Trainer\n",
        "import torchmetrics\n",
        "from torch.utils.data import TensorDataset,DataLoader"
      ]
    },
    {
      "cell_type": "code",
      "execution_count": null,
      "metadata": {
        "id": "W8I9ymGnalea"
      },
      "outputs": [],
      "source": [
        "import torchmetrics\n",
        "import torch.nn as nn\n",
        "import torch\n",
        "from torch.utils.data import DataLoader, TensorDataset\n",
        "import pytorch_lightning as pl\n",
        "\n",
        "class ChronoModel(pl.LightningModule):\n",
        "    def __init__(self):\n",
        "        super(ChronoModel, self).__init__()\n",
        "        self.model = ChronoNet(14)\n",
        "        self.lr = 1e-3\n",
        "        self.bs = 12\n",
        "        self.worker = 2\n",
        "        self.acc = torchmetrics.Accuracy(task=\"binary\")\n",
        "        self.criterion = nn.BCEWithLogitsLoss()\n",
        "\n",
        "    def forward(self, x):\n",
        "        x = self.model(x)\n",
        "        return x\n",
        "\n",
        "    def configure_optimizers(self):\n",
        "        return torch.optim.Adam(self.parameters(), lr=self.lr)\n",
        "\n",
        "    def train_dataloader(self):\n",
        "        dataset = TensorDataset(train_features, train_labels)\n",
        "        dataloader = DataLoader(dataset, batch_size=self.bs, num_workers=self.worker, shuffle=True)\n",
        "        return dataloader\n",
        "\n",
        "    def training_step(self, batch, batch_idx):\n",
        "        signal, label = batch\n",
        "        out = self(signal.float())\n",
        "        loss = self.criterion(out.flatten(), label.float().flatten())\n",
        "        acc = self.acc(out.flatten(), label.long().flatten())\n",
        "        self.log('train_loss', loss)  # Log the training loss\n",
        "        self.log('train_acc', acc)    # Log the training accuracy\n",
        "        return loss\n",
        "\n",
        "    def on_train_epoch_end(self):\n",
        "        # This is where you can compute and log any metrics you want after each training epoch\n",
        "        train_loss = self.trainer.logged_metrics['train_loss'].mean()\n",
        "        train_acc = self.trainer.logged_metrics['train_acc'].mean()\n",
        "        print('train acc loss', train_acc, train_loss)\n",
        "\n",
        "    def val_dataloader(self):\n",
        "        dataset = TensorDataset(val_features, val_labels)\n",
        "        dataloader = DataLoader(dataset, batch_size=self.bs, num_workers=self.worker, shuffle=True)\n",
        "        return dataloader\n",
        "\n",
        "    def validation_step(self, batch, batch_idx):\n",
        "        signal, label = batch\n",
        "        out = self(signal.float())\n",
        "        loss = self.criterion(out.flatten(), label.float().flatten())\n",
        "        acc = self.acc(out.flatten(), label.long().flatten())\n",
        "        self.log('val_loss', loss)  # Log the validation loss\n",
        "        self.log('val_acc', acc)    # Log the validation accuracy\n",
        "        return loss\n",
        "\n",
        "    def on_validation_epoch_end(self):\n",
        "        # This is where you can compute and log any metrics you want after each validation epoch\n",
        "        val_loss = self.trainer.logged_metrics['val_loss'].mean()\n",
        "        val_acc = self.trainer.logged_metrics['val_acc'].mean()\n",
        "        print('val acc loss', val_acc, val_loss)\n"
      ]
    },
    {
      "cell_type": "code",
      "execution_count": null,
      "metadata": {
        "id": "Cv6BN2NKMeds"
      },
      "outputs": [],
      "source": [
        "model=ChronoModel()\n"
      ]
    },
    {
      "cell_type": "code",
      "execution_count": null,
      "metadata": {
        "id": "FcKQ8b1fMjkV",
        "colab": {
          "base_uri": "https://localhost:8080/"
        },
        "outputId": "fce54d86-a146-409e-e45a-6b1a5d2e78be"
      },
      "outputs": [
        {
          "output_type": "stream",
          "name": "stderr",
          "text": [
            "INFO:pytorch_lightning.utilities.rank_zero:GPU available: False, used: False\n",
            "INFO:pytorch_lightning.utilities.rank_zero:TPU available: False, using: 0 TPU cores\n",
            "INFO:pytorch_lightning.utilities.rank_zero:IPU available: False, using: 0 IPUs\n",
            "INFO:pytorch_lightning.utilities.rank_zero:HPU available: False, using: 0 HPUs\n"
          ]
        }
      ],
      "source": [
        "trainer=Trainer(max_epochs=1)"
      ]
    },
    {
      "cell_type": "code",
      "execution_count": null,
      "metadata": {
        "id": "ZKqNUh_1MtMf",
        "colab": {
          "base_uri": "https://localhost:8080/",
          "height": 416,
          "referenced_widgets": [
            "19d63e90dfed47d7a77258abfad19e95",
            "6ba604fddb64432eb3cd60270a2dff32",
            "4811025c83124b33b2c2282cc2f5ce30",
            "895bc2df7856448eb92a04f9302d4c9a",
            "2d308eb8685248eea7dbcf8d9630911d",
            "141d4b9668d9462899731143b896b8d1",
            "1248e5cc15484f9f9929b2028c32831b",
            "34b96f6a076f41c0bc64e86a5f7fc287",
            "721d575bac5d4db0b7aa983fc21a6d40",
            "9ff9fa9ecced4eaeb2ec3787bf41a7db",
            "b544d7d96cb74267afa4585bdc13def7",
            "46256de62c1c4c58ba2d78f35c0a537a",
            "c1a7a3b188cf4a55bb9a53c5666d85bc",
            "7fead838f8a04a6098ace5045ad4e0bb",
            "8fdbcb1cb17d44bf869271453c71e02e",
            "6ec7ab294b9d48a1a6131352c245c667",
            "09564cbd69954d2da39fe1864a7106e3",
            "2d151da02a654cfebebd38bb013fd5b3",
            "c611be999f7a454fa2f6061abd062cf5",
            "63548c38bd38401fa5dc24cd85debf2b",
            "b9677e4a66944e4bad6cbcb1e3d75ad3",
            "6190cd1738164e4c896eca72181b2e4b",
            "3811e6988b7c4c19bc9327cada6ae610",
            "5dbe86806701493f86e95d43e9f354fc",
            "a48017ab10e9486db509076737b725e2",
            "a6e3ae7c8e3f47069716a6e1cd540383",
            "4ccdf84ecf7948e2b18cef15f71a5173",
            "5cfb3915efec4517b974ff85653febab",
            "06a1f2a455a44e5dac64bc1ee6f31221",
            "ce2ba63617de4d07ae2e7d02641dfd94",
            "40b2487f57b547adb8ca9ce7c8913541",
            "b4081e49a6404f7ea8ec10da8428a98c",
            "cfdfcfd27603447e92c5ae6dd35a3b1b"
          ]
        },
        "outputId": "b95461ea-2f2e-4cba-c3ec-f12d343961ac"
      },
      "outputs": [
        {
          "output_type": "stream",
          "name": "stderr",
          "text": [
            "WARNING:pytorch_lightning.loggers.tensorboard:Missing logger folder: /content/lightning_logs\n",
            "INFO:pytorch_lightning.callbacks.model_summary:\n",
            "  | Name      | Type              | Params\n",
            "------------------------------------------------\n",
            "0 | model     | ChronoNet         | 133 K \n",
            "1 | acc       | BinaryAccuracy    | 0     \n",
            "2 | criterion | BCEWithLogitsLoss | 0     \n",
            "------------------------------------------------\n",
            "133 K     Trainable params\n",
            "0         Non-trainable params\n",
            "133 K     Total params\n",
            "0.534     Total estimated model params size (MB)\n"
          ]
        },
        {
          "output_type": "display_data",
          "data": {
            "text/plain": [
              "Sanity Checking: 0it [00:00, ?it/s]"
            ],
            "application/vnd.jupyter.widget-view+json": {
              "version_major": 2,
              "version_minor": 0,
              "model_id": "19d63e90dfed47d7a77258abfad19e95"
            }
          },
          "metadata": {}
        },
        {
          "output_type": "stream",
          "name": "stderr",
          "text": [
            "/usr/local/lib/python3.10/dist-packages/pytorch_lightning/trainer/connectors/data_connector.py:490: PossibleUserWarning: Your `val_dataloader`'s sampler has shuffling enabled, it is strongly recommended that you turn shuffling off for val/test dataloaders.\n",
            "  rank_zero_warn(\n"
          ]
        },
        {
          "output_type": "stream",
          "name": "stdout",
          "text": [
            "val acc loss tensor(0.3333) tensor(0.7152)\n"
          ]
        },
        {
          "output_type": "stream",
          "name": "stderr",
          "text": [
            "/usr/local/lib/python3.10/dist-packages/pytorch_lightning/loops/fit_loop.py:281: PossibleUserWarning: The number of training batches (28) is smaller than the logging interval Trainer(log_every_n_steps=50). Set a lower value for log_every_n_steps if you want to see logs for the training epoch.\n",
            "  rank_zero_warn(\n"
          ]
        },
        {
          "output_type": "display_data",
          "data": {
            "text/plain": [
              "Training: 0it [00:00, ?it/s]"
            ],
            "application/vnd.jupyter.widget-view+json": {
              "version_major": 2,
              "version_minor": 0,
              "model_id": "46256de62c1c4c58ba2d78f35c0a537a"
            }
          },
          "metadata": {}
        },
        {
          "output_type": "display_data",
          "data": {
            "text/plain": [
              "Validation: 0it [00:00, ?it/s]"
            ],
            "application/vnd.jupyter.widget-view+json": {
              "version_major": 2,
              "version_minor": 0,
              "model_id": "3811e6988b7c4c19bc9327cada6ae610"
            }
          },
          "metadata": {}
        },
        {
          "output_type": "stream",
          "name": "stderr",
          "text": [
            "INFO:pytorch_lightning.utilities.rank_zero:`Trainer.fit` stopped: `max_epochs=1` reached.\n"
          ]
        },
        {
          "output_type": "stream",
          "name": "stdout",
          "text": [
            "val acc loss tensor(0.3333) tensor(0.7286)\n",
            "train acc loss tensor(0.6667) tensor(0.6546)\n"
          ]
        }
      ],
      "source": [
        "trainer.fit(model)"
      ]
    }
  ],
  "metadata": {
    "colab": {
      "provenance": []
    },
    "kernelspec": {
      "display_name": "Python 3",
      "name": "python3"
    },
    "language_info": {
      "name": "python"
    },
    "widgets": {
      "application/vnd.jupyter.widget-state+json": {
        "19d63e90dfed47d7a77258abfad19e95": {
          "model_module": "@jupyter-widgets/controls",
          "model_name": "HBoxModel",
          "model_module_version": "1.5.0",
          "state": {
            "_dom_classes": [],
            "_model_module": "@jupyter-widgets/controls",
            "_model_module_version": "1.5.0",
            "_model_name": "HBoxModel",
            "_view_count": null,
            "_view_module": "@jupyter-widgets/controls",
            "_view_module_version": "1.5.0",
            "_view_name": "HBoxView",
            "box_style": "",
            "children": [
              "IPY_MODEL_6ba604fddb64432eb3cd60270a2dff32",
              "IPY_MODEL_4811025c83124b33b2c2282cc2f5ce30",
              "IPY_MODEL_895bc2df7856448eb92a04f9302d4c9a"
            ],
            "layout": "IPY_MODEL_2d308eb8685248eea7dbcf8d9630911d"
          }
        },
        "6ba604fddb64432eb3cd60270a2dff32": {
          "model_module": "@jupyter-widgets/controls",
          "model_name": "HTMLModel",
          "model_module_version": "1.5.0",
          "state": {
            "_dom_classes": [],
            "_model_module": "@jupyter-widgets/controls",
            "_model_module_version": "1.5.0",
            "_model_name": "HTMLModel",
            "_view_count": null,
            "_view_module": "@jupyter-widgets/controls",
            "_view_module_version": "1.5.0",
            "_view_name": "HTMLView",
            "description": "",
            "description_tooltip": null,
            "layout": "IPY_MODEL_141d4b9668d9462899731143b896b8d1",
            "placeholder": "​",
            "style": "IPY_MODEL_1248e5cc15484f9f9929b2028c32831b",
            "value": "Sanity Checking DataLoader 0: 100%"
          }
        },
        "4811025c83124b33b2c2282cc2f5ce30": {
          "model_module": "@jupyter-widgets/controls",
          "model_name": "FloatProgressModel",
          "model_module_version": "1.5.0",
          "state": {
            "_dom_classes": [],
            "_model_module": "@jupyter-widgets/controls",
            "_model_module_version": "1.5.0",
            "_model_name": "FloatProgressModel",
            "_view_count": null,
            "_view_module": "@jupyter-widgets/controls",
            "_view_module_version": "1.5.0",
            "_view_name": "ProgressView",
            "bar_style": "",
            "description": "",
            "description_tooltip": null,
            "layout": "IPY_MODEL_34b96f6a076f41c0bc64e86a5f7fc287",
            "max": 2,
            "min": 0,
            "orientation": "horizontal",
            "style": "IPY_MODEL_721d575bac5d4db0b7aa983fc21a6d40",
            "value": 2
          }
        },
        "895bc2df7856448eb92a04f9302d4c9a": {
          "model_module": "@jupyter-widgets/controls",
          "model_name": "HTMLModel",
          "model_module_version": "1.5.0",
          "state": {
            "_dom_classes": [],
            "_model_module": "@jupyter-widgets/controls",
            "_model_module_version": "1.5.0",
            "_model_name": "HTMLModel",
            "_view_count": null,
            "_view_module": "@jupyter-widgets/controls",
            "_view_module_version": "1.5.0",
            "_view_name": "HTMLView",
            "description": "",
            "description_tooltip": null,
            "layout": "IPY_MODEL_9ff9fa9ecced4eaeb2ec3787bf41a7db",
            "placeholder": "​",
            "style": "IPY_MODEL_b544d7d96cb74267afa4585bdc13def7",
            "value": " 2/2 [00:02&lt;00:00,  1.26s/it]"
          }
        },
        "2d308eb8685248eea7dbcf8d9630911d": {
          "model_module": "@jupyter-widgets/base",
          "model_name": "LayoutModel",
          "model_module_version": "1.2.0",
          "state": {
            "_model_module": "@jupyter-widgets/base",
            "_model_module_version": "1.2.0",
            "_model_name": "LayoutModel",
            "_view_count": null,
            "_view_module": "@jupyter-widgets/base",
            "_view_module_version": "1.2.0",
            "_view_name": "LayoutView",
            "align_content": null,
            "align_items": null,
            "align_self": null,
            "border": null,
            "bottom": null,
            "display": "inline-flex",
            "flex": null,
            "flex_flow": "row wrap",
            "grid_area": null,
            "grid_auto_columns": null,
            "grid_auto_flow": null,
            "grid_auto_rows": null,
            "grid_column": null,
            "grid_gap": null,
            "grid_row": null,
            "grid_template_areas": null,
            "grid_template_columns": null,
            "grid_template_rows": null,
            "height": null,
            "justify_content": null,
            "justify_items": null,
            "left": null,
            "margin": null,
            "max_height": null,
            "max_width": null,
            "min_height": null,
            "min_width": null,
            "object_fit": null,
            "object_position": null,
            "order": null,
            "overflow": null,
            "overflow_x": null,
            "overflow_y": null,
            "padding": null,
            "right": null,
            "top": null,
            "visibility": "hidden",
            "width": "100%"
          }
        },
        "141d4b9668d9462899731143b896b8d1": {
          "model_module": "@jupyter-widgets/base",
          "model_name": "LayoutModel",
          "model_module_version": "1.2.0",
          "state": {
            "_model_module": "@jupyter-widgets/base",
            "_model_module_version": "1.2.0",
            "_model_name": "LayoutModel",
            "_view_count": null,
            "_view_module": "@jupyter-widgets/base",
            "_view_module_version": "1.2.0",
            "_view_name": "LayoutView",
            "align_content": null,
            "align_items": null,
            "align_self": null,
            "border": null,
            "bottom": null,
            "display": null,
            "flex": null,
            "flex_flow": null,
            "grid_area": null,
            "grid_auto_columns": null,
            "grid_auto_flow": null,
            "grid_auto_rows": null,
            "grid_column": null,
            "grid_gap": null,
            "grid_row": null,
            "grid_template_areas": null,
            "grid_template_columns": null,
            "grid_template_rows": null,
            "height": null,
            "justify_content": null,
            "justify_items": null,
            "left": null,
            "margin": null,
            "max_height": null,
            "max_width": null,
            "min_height": null,
            "min_width": null,
            "object_fit": null,
            "object_position": null,
            "order": null,
            "overflow": null,
            "overflow_x": null,
            "overflow_y": null,
            "padding": null,
            "right": null,
            "top": null,
            "visibility": null,
            "width": null
          }
        },
        "1248e5cc15484f9f9929b2028c32831b": {
          "model_module": "@jupyter-widgets/controls",
          "model_name": "DescriptionStyleModel",
          "model_module_version": "1.5.0",
          "state": {
            "_model_module": "@jupyter-widgets/controls",
            "_model_module_version": "1.5.0",
            "_model_name": "DescriptionStyleModel",
            "_view_count": null,
            "_view_module": "@jupyter-widgets/base",
            "_view_module_version": "1.2.0",
            "_view_name": "StyleView",
            "description_width": ""
          }
        },
        "34b96f6a076f41c0bc64e86a5f7fc287": {
          "model_module": "@jupyter-widgets/base",
          "model_name": "LayoutModel",
          "model_module_version": "1.2.0",
          "state": {
            "_model_module": "@jupyter-widgets/base",
            "_model_module_version": "1.2.0",
            "_model_name": "LayoutModel",
            "_view_count": null,
            "_view_module": "@jupyter-widgets/base",
            "_view_module_version": "1.2.0",
            "_view_name": "LayoutView",
            "align_content": null,
            "align_items": null,
            "align_self": null,
            "border": null,
            "bottom": null,
            "display": null,
            "flex": "2",
            "flex_flow": null,
            "grid_area": null,
            "grid_auto_columns": null,
            "grid_auto_flow": null,
            "grid_auto_rows": null,
            "grid_column": null,
            "grid_gap": null,
            "grid_row": null,
            "grid_template_areas": null,
            "grid_template_columns": null,
            "grid_template_rows": null,
            "height": null,
            "justify_content": null,
            "justify_items": null,
            "left": null,
            "margin": null,
            "max_height": null,
            "max_width": null,
            "min_height": null,
            "min_width": null,
            "object_fit": null,
            "object_position": null,
            "order": null,
            "overflow": null,
            "overflow_x": null,
            "overflow_y": null,
            "padding": null,
            "right": null,
            "top": null,
            "visibility": null,
            "width": null
          }
        },
        "721d575bac5d4db0b7aa983fc21a6d40": {
          "model_module": "@jupyter-widgets/controls",
          "model_name": "ProgressStyleModel",
          "model_module_version": "1.5.0",
          "state": {
            "_model_module": "@jupyter-widgets/controls",
            "_model_module_version": "1.5.0",
            "_model_name": "ProgressStyleModel",
            "_view_count": null,
            "_view_module": "@jupyter-widgets/base",
            "_view_module_version": "1.2.0",
            "_view_name": "StyleView",
            "bar_color": null,
            "description_width": ""
          }
        },
        "9ff9fa9ecced4eaeb2ec3787bf41a7db": {
          "model_module": "@jupyter-widgets/base",
          "model_name": "LayoutModel",
          "model_module_version": "1.2.0",
          "state": {
            "_model_module": "@jupyter-widgets/base",
            "_model_module_version": "1.2.0",
            "_model_name": "LayoutModel",
            "_view_count": null,
            "_view_module": "@jupyter-widgets/base",
            "_view_module_version": "1.2.0",
            "_view_name": "LayoutView",
            "align_content": null,
            "align_items": null,
            "align_self": null,
            "border": null,
            "bottom": null,
            "display": null,
            "flex": null,
            "flex_flow": null,
            "grid_area": null,
            "grid_auto_columns": null,
            "grid_auto_flow": null,
            "grid_auto_rows": null,
            "grid_column": null,
            "grid_gap": null,
            "grid_row": null,
            "grid_template_areas": null,
            "grid_template_columns": null,
            "grid_template_rows": null,
            "height": null,
            "justify_content": null,
            "justify_items": null,
            "left": null,
            "margin": null,
            "max_height": null,
            "max_width": null,
            "min_height": null,
            "min_width": null,
            "object_fit": null,
            "object_position": null,
            "order": null,
            "overflow": null,
            "overflow_x": null,
            "overflow_y": null,
            "padding": null,
            "right": null,
            "top": null,
            "visibility": null,
            "width": null
          }
        },
        "b544d7d96cb74267afa4585bdc13def7": {
          "model_module": "@jupyter-widgets/controls",
          "model_name": "DescriptionStyleModel",
          "model_module_version": "1.5.0",
          "state": {
            "_model_module": "@jupyter-widgets/controls",
            "_model_module_version": "1.5.0",
            "_model_name": "DescriptionStyleModel",
            "_view_count": null,
            "_view_module": "@jupyter-widgets/base",
            "_view_module_version": "1.2.0",
            "_view_name": "StyleView",
            "description_width": ""
          }
        },
        "46256de62c1c4c58ba2d78f35c0a537a": {
          "model_module": "@jupyter-widgets/controls",
          "model_name": "HBoxModel",
          "model_module_version": "1.5.0",
          "state": {
            "_dom_classes": [],
            "_model_module": "@jupyter-widgets/controls",
            "_model_module_version": "1.5.0",
            "_model_name": "HBoxModel",
            "_view_count": null,
            "_view_module": "@jupyter-widgets/controls",
            "_view_module_version": "1.5.0",
            "_view_name": "HBoxView",
            "box_style": "",
            "children": [
              "IPY_MODEL_c1a7a3b188cf4a55bb9a53c5666d85bc",
              "IPY_MODEL_7fead838f8a04a6098ace5045ad4e0bb",
              "IPY_MODEL_8fdbcb1cb17d44bf869271453c71e02e"
            ],
            "layout": "IPY_MODEL_6ec7ab294b9d48a1a6131352c245c667"
          }
        },
        "c1a7a3b188cf4a55bb9a53c5666d85bc": {
          "model_module": "@jupyter-widgets/controls",
          "model_name": "HTMLModel",
          "model_module_version": "1.5.0",
          "state": {
            "_dom_classes": [],
            "_model_module": "@jupyter-widgets/controls",
            "_model_module_version": "1.5.0",
            "_model_name": "HTMLModel",
            "_view_count": null,
            "_view_module": "@jupyter-widgets/controls",
            "_view_module_version": "1.5.0",
            "_view_name": "HTMLView",
            "description": "",
            "description_tooltip": null,
            "layout": "IPY_MODEL_09564cbd69954d2da39fe1864a7106e3",
            "placeholder": "​",
            "style": "IPY_MODEL_2d151da02a654cfebebd38bb013fd5b3",
            "value": "Epoch 0: 100%"
          }
        },
        "7fead838f8a04a6098ace5045ad4e0bb": {
          "model_module": "@jupyter-widgets/controls",
          "model_name": "FloatProgressModel",
          "model_module_version": "1.5.0",
          "state": {
            "_dom_classes": [],
            "_model_module": "@jupyter-widgets/controls",
            "_model_module_version": "1.5.0",
            "_model_name": "FloatProgressModel",
            "_view_count": null,
            "_view_module": "@jupyter-widgets/controls",
            "_view_module_version": "1.5.0",
            "_view_name": "ProgressView",
            "bar_style": "success",
            "description": "",
            "description_tooltip": null,
            "layout": "IPY_MODEL_c611be999f7a454fa2f6061abd062cf5",
            "max": 28,
            "min": 0,
            "orientation": "horizontal",
            "style": "IPY_MODEL_63548c38bd38401fa5dc24cd85debf2b",
            "value": 28
          }
        },
        "8fdbcb1cb17d44bf869271453c71e02e": {
          "model_module": "@jupyter-widgets/controls",
          "model_name": "HTMLModel",
          "model_module_version": "1.5.0",
          "state": {
            "_dom_classes": [],
            "_model_module": "@jupyter-widgets/controls",
            "_model_module_version": "1.5.0",
            "_model_name": "HTMLModel",
            "_view_count": null,
            "_view_module": "@jupyter-widgets/controls",
            "_view_module_version": "1.5.0",
            "_view_name": "HTMLView",
            "description": "",
            "description_tooltip": null,
            "layout": "IPY_MODEL_b9677e4a66944e4bad6cbcb1e3d75ad3",
            "placeholder": "​",
            "style": "IPY_MODEL_6190cd1738164e4c896eca72181b2e4b",
            "value": " 28/28 [00:08&lt;00:00,  3.43it/s, v_num=0]"
          }
        },
        "6ec7ab294b9d48a1a6131352c245c667": {
          "model_module": "@jupyter-widgets/base",
          "model_name": "LayoutModel",
          "model_module_version": "1.2.0",
          "state": {
            "_model_module": "@jupyter-widgets/base",
            "_model_module_version": "1.2.0",
            "_model_name": "LayoutModel",
            "_view_count": null,
            "_view_module": "@jupyter-widgets/base",
            "_view_module_version": "1.2.0",
            "_view_name": "LayoutView",
            "align_content": null,
            "align_items": null,
            "align_self": null,
            "border": null,
            "bottom": null,
            "display": "inline-flex",
            "flex": null,
            "flex_flow": "row wrap",
            "grid_area": null,
            "grid_auto_columns": null,
            "grid_auto_flow": null,
            "grid_auto_rows": null,
            "grid_column": null,
            "grid_gap": null,
            "grid_row": null,
            "grid_template_areas": null,
            "grid_template_columns": null,
            "grid_template_rows": null,
            "height": null,
            "justify_content": null,
            "justify_items": null,
            "left": null,
            "margin": null,
            "max_height": null,
            "max_width": null,
            "min_height": null,
            "min_width": null,
            "object_fit": null,
            "object_position": null,
            "order": null,
            "overflow": null,
            "overflow_x": null,
            "overflow_y": null,
            "padding": null,
            "right": null,
            "top": null,
            "visibility": null,
            "width": "100%"
          }
        },
        "09564cbd69954d2da39fe1864a7106e3": {
          "model_module": "@jupyter-widgets/base",
          "model_name": "LayoutModel",
          "model_module_version": "1.2.0",
          "state": {
            "_model_module": "@jupyter-widgets/base",
            "_model_module_version": "1.2.0",
            "_model_name": "LayoutModel",
            "_view_count": null,
            "_view_module": "@jupyter-widgets/base",
            "_view_module_version": "1.2.0",
            "_view_name": "LayoutView",
            "align_content": null,
            "align_items": null,
            "align_self": null,
            "border": null,
            "bottom": null,
            "display": null,
            "flex": null,
            "flex_flow": null,
            "grid_area": null,
            "grid_auto_columns": null,
            "grid_auto_flow": null,
            "grid_auto_rows": null,
            "grid_column": null,
            "grid_gap": null,
            "grid_row": null,
            "grid_template_areas": null,
            "grid_template_columns": null,
            "grid_template_rows": null,
            "height": null,
            "justify_content": null,
            "justify_items": null,
            "left": null,
            "margin": null,
            "max_height": null,
            "max_width": null,
            "min_height": null,
            "min_width": null,
            "object_fit": null,
            "object_position": null,
            "order": null,
            "overflow": null,
            "overflow_x": null,
            "overflow_y": null,
            "padding": null,
            "right": null,
            "top": null,
            "visibility": null,
            "width": null
          }
        },
        "2d151da02a654cfebebd38bb013fd5b3": {
          "model_module": "@jupyter-widgets/controls",
          "model_name": "DescriptionStyleModel",
          "model_module_version": "1.5.0",
          "state": {
            "_model_module": "@jupyter-widgets/controls",
            "_model_module_version": "1.5.0",
            "_model_name": "DescriptionStyleModel",
            "_view_count": null,
            "_view_module": "@jupyter-widgets/base",
            "_view_module_version": "1.2.0",
            "_view_name": "StyleView",
            "description_width": ""
          }
        },
        "c611be999f7a454fa2f6061abd062cf5": {
          "model_module": "@jupyter-widgets/base",
          "model_name": "LayoutModel",
          "model_module_version": "1.2.0",
          "state": {
            "_model_module": "@jupyter-widgets/base",
            "_model_module_version": "1.2.0",
            "_model_name": "LayoutModel",
            "_view_count": null,
            "_view_module": "@jupyter-widgets/base",
            "_view_module_version": "1.2.0",
            "_view_name": "LayoutView",
            "align_content": null,
            "align_items": null,
            "align_self": null,
            "border": null,
            "bottom": null,
            "display": null,
            "flex": "2",
            "flex_flow": null,
            "grid_area": null,
            "grid_auto_columns": null,
            "grid_auto_flow": null,
            "grid_auto_rows": null,
            "grid_column": null,
            "grid_gap": null,
            "grid_row": null,
            "grid_template_areas": null,
            "grid_template_columns": null,
            "grid_template_rows": null,
            "height": null,
            "justify_content": null,
            "justify_items": null,
            "left": null,
            "margin": null,
            "max_height": null,
            "max_width": null,
            "min_height": null,
            "min_width": null,
            "object_fit": null,
            "object_position": null,
            "order": null,
            "overflow": null,
            "overflow_x": null,
            "overflow_y": null,
            "padding": null,
            "right": null,
            "top": null,
            "visibility": null,
            "width": null
          }
        },
        "63548c38bd38401fa5dc24cd85debf2b": {
          "model_module": "@jupyter-widgets/controls",
          "model_name": "ProgressStyleModel",
          "model_module_version": "1.5.0",
          "state": {
            "_model_module": "@jupyter-widgets/controls",
            "_model_module_version": "1.5.0",
            "_model_name": "ProgressStyleModel",
            "_view_count": null,
            "_view_module": "@jupyter-widgets/base",
            "_view_module_version": "1.2.0",
            "_view_name": "StyleView",
            "bar_color": null,
            "description_width": ""
          }
        },
        "b9677e4a66944e4bad6cbcb1e3d75ad3": {
          "model_module": "@jupyter-widgets/base",
          "model_name": "LayoutModel",
          "model_module_version": "1.2.0",
          "state": {
            "_model_module": "@jupyter-widgets/base",
            "_model_module_version": "1.2.0",
            "_model_name": "LayoutModel",
            "_view_count": null,
            "_view_module": "@jupyter-widgets/base",
            "_view_module_version": "1.2.0",
            "_view_name": "LayoutView",
            "align_content": null,
            "align_items": null,
            "align_self": null,
            "border": null,
            "bottom": null,
            "display": null,
            "flex": null,
            "flex_flow": null,
            "grid_area": null,
            "grid_auto_columns": null,
            "grid_auto_flow": null,
            "grid_auto_rows": null,
            "grid_column": null,
            "grid_gap": null,
            "grid_row": null,
            "grid_template_areas": null,
            "grid_template_columns": null,
            "grid_template_rows": null,
            "height": null,
            "justify_content": null,
            "justify_items": null,
            "left": null,
            "margin": null,
            "max_height": null,
            "max_width": null,
            "min_height": null,
            "min_width": null,
            "object_fit": null,
            "object_position": null,
            "order": null,
            "overflow": null,
            "overflow_x": null,
            "overflow_y": null,
            "padding": null,
            "right": null,
            "top": null,
            "visibility": null,
            "width": null
          }
        },
        "6190cd1738164e4c896eca72181b2e4b": {
          "model_module": "@jupyter-widgets/controls",
          "model_name": "DescriptionStyleModel",
          "model_module_version": "1.5.0",
          "state": {
            "_model_module": "@jupyter-widgets/controls",
            "_model_module_version": "1.5.0",
            "_model_name": "DescriptionStyleModel",
            "_view_count": null,
            "_view_module": "@jupyter-widgets/base",
            "_view_module_version": "1.2.0",
            "_view_name": "StyleView",
            "description_width": ""
          }
        },
        "3811e6988b7c4c19bc9327cada6ae610": {
          "model_module": "@jupyter-widgets/controls",
          "model_name": "HBoxModel",
          "model_module_version": "1.5.0",
          "state": {
            "_dom_classes": [],
            "_model_module": "@jupyter-widgets/controls",
            "_model_module_version": "1.5.0",
            "_model_name": "HBoxModel",
            "_view_count": null,
            "_view_module": "@jupyter-widgets/controls",
            "_view_module_version": "1.5.0",
            "_view_name": "HBoxView",
            "box_style": "",
            "children": [
              "IPY_MODEL_5dbe86806701493f86e95d43e9f354fc",
              "IPY_MODEL_a48017ab10e9486db509076737b725e2",
              "IPY_MODEL_a6e3ae7c8e3f47069716a6e1cd540383"
            ],
            "layout": "IPY_MODEL_4ccdf84ecf7948e2b18cef15f71a5173"
          }
        },
        "5dbe86806701493f86e95d43e9f354fc": {
          "model_module": "@jupyter-widgets/controls",
          "model_name": "HTMLModel",
          "model_module_version": "1.5.0",
          "state": {
            "_dom_classes": [],
            "_model_module": "@jupyter-widgets/controls",
            "_model_module_version": "1.5.0",
            "_model_name": "HTMLModel",
            "_view_count": null,
            "_view_module": "@jupyter-widgets/controls",
            "_view_module_version": "1.5.0",
            "_view_name": "HTMLView",
            "description": "",
            "description_tooltip": null,
            "layout": "IPY_MODEL_5cfb3915efec4517b974ff85653febab",
            "placeholder": "​",
            "style": "IPY_MODEL_06a1f2a455a44e5dac64bc1ee6f31221",
            "value": "Validation DataLoader 0: 100%"
          }
        },
        "a48017ab10e9486db509076737b725e2": {
          "model_module": "@jupyter-widgets/controls",
          "model_name": "FloatProgressModel",
          "model_module_version": "1.5.0",
          "state": {
            "_dom_classes": [],
            "_model_module": "@jupyter-widgets/controls",
            "_model_module_version": "1.5.0",
            "_model_name": "FloatProgressModel",
            "_view_count": null,
            "_view_module": "@jupyter-widgets/controls",
            "_view_module_version": "1.5.0",
            "_view_name": "ProgressView",
            "bar_style": "",
            "description": "",
            "description_tooltip": null,
            "layout": "IPY_MODEL_ce2ba63617de4d07ae2e7d02641dfd94",
            "max": 8,
            "min": 0,
            "orientation": "horizontal",
            "style": "IPY_MODEL_40b2487f57b547adb8ca9ce7c8913541",
            "value": 8
          }
        },
        "a6e3ae7c8e3f47069716a6e1cd540383": {
          "model_module": "@jupyter-widgets/controls",
          "model_name": "HTMLModel",
          "model_module_version": "1.5.0",
          "state": {
            "_dom_classes": [],
            "_model_module": "@jupyter-widgets/controls",
            "_model_module_version": "1.5.0",
            "_model_name": "HTMLModel",
            "_view_count": null,
            "_view_module": "@jupyter-widgets/controls",
            "_view_module_version": "1.5.0",
            "_view_name": "HTMLView",
            "description": "",
            "description_tooltip": null,
            "layout": "IPY_MODEL_b4081e49a6404f7ea8ec10da8428a98c",
            "placeholder": "​",
            "style": "IPY_MODEL_cfdfcfd27603447e92c5ae6dd35a3b1b",
            "value": " 8/8 [00:00&lt;00:00,  8.18it/s]"
          }
        },
        "4ccdf84ecf7948e2b18cef15f71a5173": {
          "model_module": "@jupyter-widgets/base",
          "model_name": "LayoutModel",
          "model_module_version": "1.2.0",
          "state": {
            "_model_module": "@jupyter-widgets/base",
            "_model_module_version": "1.2.0",
            "_model_name": "LayoutModel",
            "_view_count": null,
            "_view_module": "@jupyter-widgets/base",
            "_view_module_version": "1.2.0",
            "_view_name": "LayoutView",
            "align_content": null,
            "align_items": null,
            "align_self": null,
            "border": null,
            "bottom": null,
            "display": "inline-flex",
            "flex": null,
            "flex_flow": "row wrap",
            "grid_area": null,
            "grid_auto_columns": null,
            "grid_auto_flow": null,
            "grid_auto_rows": null,
            "grid_column": null,
            "grid_gap": null,
            "grid_row": null,
            "grid_template_areas": null,
            "grid_template_columns": null,
            "grid_template_rows": null,
            "height": null,
            "justify_content": null,
            "justify_items": null,
            "left": null,
            "margin": null,
            "max_height": null,
            "max_width": null,
            "min_height": null,
            "min_width": null,
            "object_fit": null,
            "object_position": null,
            "order": null,
            "overflow": null,
            "overflow_x": null,
            "overflow_y": null,
            "padding": null,
            "right": null,
            "top": null,
            "visibility": "hidden",
            "width": "100%"
          }
        },
        "5cfb3915efec4517b974ff85653febab": {
          "model_module": "@jupyter-widgets/base",
          "model_name": "LayoutModel",
          "model_module_version": "1.2.0",
          "state": {
            "_model_module": "@jupyter-widgets/base",
            "_model_module_version": "1.2.0",
            "_model_name": "LayoutModel",
            "_view_count": null,
            "_view_module": "@jupyter-widgets/base",
            "_view_module_version": "1.2.0",
            "_view_name": "LayoutView",
            "align_content": null,
            "align_items": null,
            "align_self": null,
            "border": null,
            "bottom": null,
            "display": null,
            "flex": null,
            "flex_flow": null,
            "grid_area": null,
            "grid_auto_columns": null,
            "grid_auto_flow": null,
            "grid_auto_rows": null,
            "grid_column": null,
            "grid_gap": null,
            "grid_row": null,
            "grid_template_areas": null,
            "grid_template_columns": null,
            "grid_template_rows": null,
            "height": null,
            "justify_content": null,
            "justify_items": null,
            "left": null,
            "margin": null,
            "max_height": null,
            "max_width": null,
            "min_height": null,
            "min_width": null,
            "object_fit": null,
            "object_position": null,
            "order": null,
            "overflow": null,
            "overflow_x": null,
            "overflow_y": null,
            "padding": null,
            "right": null,
            "top": null,
            "visibility": null,
            "width": null
          }
        },
        "06a1f2a455a44e5dac64bc1ee6f31221": {
          "model_module": "@jupyter-widgets/controls",
          "model_name": "DescriptionStyleModel",
          "model_module_version": "1.5.0",
          "state": {
            "_model_module": "@jupyter-widgets/controls",
            "_model_module_version": "1.5.0",
            "_model_name": "DescriptionStyleModel",
            "_view_count": null,
            "_view_module": "@jupyter-widgets/base",
            "_view_module_version": "1.2.0",
            "_view_name": "StyleView",
            "description_width": ""
          }
        },
        "ce2ba63617de4d07ae2e7d02641dfd94": {
          "model_module": "@jupyter-widgets/base",
          "model_name": "LayoutModel",
          "model_module_version": "1.2.0",
          "state": {
            "_model_module": "@jupyter-widgets/base",
            "_model_module_version": "1.2.0",
            "_model_name": "LayoutModel",
            "_view_count": null,
            "_view_module": "@jupyter-widgets/base",
            "_view_module_version": "1.2.0",
            "_view_name": "LayoutView",
            "align_content": null,
            "align_items": null,
            "align_self": null,
            "border": null,
            "bottom": null,
            "display": null,
            "flex": "2",
            "flex_flow": null,
            "grid_area": null,
            "grid_auto_columns": null,
            "grid_auto_flow": null,
            "grid_auto_rows": null,
            "grid_column": null,
            "grid_gap": null,
            "grid_row": null,
            "grid_template_areas": null,
            "grid_template_columns": null,
            "grid_template_rows": null,
            "height": null,
            "justify_content": null,
            "justify_items": null,
            "left": null,
            "margin": null,
            "max_height": null,
            "max_width": null,
            "min_height": null,
            "min_width": null,
            "object_fit": null,
            "object_position": null,
            "order": null,
            "overflow": null,
            "overflow_x": null,
            "overflow_y": null,
            "padding": null,
            "right": null,
            "top": null,
            "visibility": null,
            "width": null
          }
        },
        "40b2487f57b547adb8ca9ce7c8913541": {
          "model_module": "@jupyter-widgets/controls",
          "model_name": "ProgressStyleModel",
          "model_module_version": "1.5.0",
          "state": {
            "_model_module": "@jupyter-widgets/controls",
            "_model_module_version": "1.5.0",
            "_model_name": "ProgressStyleModel",
            "_view_count": null,
            "_view_module": "@jupyter-widgets/base",
            "_view_module_version": "1.2.0",
            "_view_name": "StyleView",
            "bar_color": null,
            "description_width": ""
          }
        },
        "b4081e49a6404f7ea8ec10da8428a98c": {
          "model_module": "@jupyter-widgets/base",
          "model_name": "LayoutModel",
          "model_module_version": "1.2.0",
          "state": {
            "_model_module": "@jupyter-widgets/base",
            "_model_module_version": "1.2.0",
            "_model_name": "LayoutModel",
            "_view_count": null,
            "_view_module": "@jupyter-widgets/base",
            "_view_module_version": "1.2.0",
            "_view_name": "LayoutView",
            "align_content": null,
            "align_items": null,
            "align_self": null,
            "border": null,
            "bottom": null,
            "display": null,
            "flex": null,
            "flex_flow": null,
            "grid_area": null,
            "grid_auto_columns": null,
            "grid_auto_flow": null,
            "grid_auto_rows": null,
            "grid_column": null,
            "grid_gap": null,
            "grid_row": null,
            "grid_template_areas": null,
            "grid_template_columns": null,
            "grid_template_rows": null,
            "height": null,
            "justify_content": null,
            "justify_items": null,
            "left": null,
            "margin": null,
            "max_height": null,
            "max_width": null,
            "min_height": null,
            "min_width": null,
            "object_fit": null,
            "object_position": null,
            "order": null,
            "overflow": null,
            "overflow_x": null,
            "overflow_y": null,
            "padding": null,
            "right": null,
            "top": null,
            "visibility": null,
            "width": null
          }
        },
        "cfdfcfd27603447e92c5ae6dd35a3b1b": {
          "model_module": "@jupyter-widgets/controls",
          "model_name": "DescriptionStyleModel",
          "model_module_version": "1.5.0",
          "state": {
            "_model_module": "@jupyter-widgets/controls",
            "_model_module_version": "1.5.0",
            "_model_name": "DescriptionStyleModel",
            "_view_count": null,
            "_view_module": "@jupyter-widgets/base",
            "_view_module_version": "1.2.0",
            "_view_name": "StyleView",
            "description_width": ""
          }
        }
      }
    }
  },
  "nbformat": 4,
  "nbformat_minor": 0
}